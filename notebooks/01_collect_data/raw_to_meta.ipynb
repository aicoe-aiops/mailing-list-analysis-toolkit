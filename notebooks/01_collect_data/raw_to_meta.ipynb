{
 "cells": [
  {
   "cell_type": "markdown",
   "metadata": {},
   "source": [
    "# raw to metadata\n",
    "\n",
    "**Note: This notebook is used in automation**\n",
    "\n",
    "This notebook pre-process raw mbox files produced by `gz_to_raw.ipynb` and converts them to csv files that only contain the metadata fields for each email.\n",
    "\n",
    "When run directly, it will convert all mbox files in `raw/fedora-devel-list/` and save them as csv's in `/interim/metadata/`. \n",
    "\n",
    "When run as part of the automation workflow, it will only pre-process the last full months worth of data and upload it to remote storage for later use.  "
   ]
  },
  {
   "cell_type": "code",
   "execution_count": 28,
   "metadata": {},
   "outputs": [],
   "source": [
    "import mailbox\n",
    "import os\n",
    "import datetime\n",
    "import pandas as pd\n",
    "from pathlib import Path\n",
    "from dotenv import load_dotenv\n",
    "\n",
    "load_dotenv(\"../../.env\")\n",
    "\n",
    "import sys\n",
    "\n",
    "sys.path.append(\"../..\")\n",
    "from src import utils"
   ]
  },
  {
   "cell_type": "code",
   "execution_count": 5,
   "metadata": {},
   "outputs": [],
   "source": [
    "# collect paths of either the entire dataset, or only the most recent month if running in automation\n",
    "\n",
    "BASE_PATH = os.getenv(\"LOCAL_DATA_PATH\", \"../../data\")\n",
    "path = Path(BASE_PATH).joinpath(\"raw/fedora-devel-list\")\n",
    "mboxes = [x.name for x in list(path.glob(\"*.mbox\"))]\n",
    "\n",
    "if os.getenv(\"RUN_IN_AUTOMATION\"):\n",
    "    LAST_MONTH_DATE = datetime.datetime.now().replace(\n",
    "        day=1\n",
    "    ) - datetime.timedelta(days=1)\n",
    "    y = LAST_MONTH_DATE.year\n",
    "    m = LAST_MONTH_DATE.month\n",
    "    mboxes = [x.name for x in list(path.glob(f\"*{y}-{m}.mbox\"))]"
   ]
  },
  {
   "cell_type": "code",
   "execution_count": 17,
   "metadata": {},
   "outputs": [],
   "source": [
    "# Define a function to convert mbox data into row,column format for analysis using pandas\n",
    "\n",
    "\n",
    "def mbox_to_meta(mbox):\n",
    "\n",
    "    csv = []\n",
    "    for msg in mbox:\n",
    "        msg_id = msg[\"Message-ID\"]\n",
    "        date = msg[\"Date\"]\n",
    "        subject = msg[\"Subject\"]\n",
    "\n",
    "        csv.append((msg_id, date, subject))\n",
    "    df = pd.DataFrame(\n",
    "        csv,\n",
    "        columns=[\"Message-ID\", \"Date\", \"Subject\"],\n",
    "    )\n",
    "\n",
    "    return df"
   ]
  },
  {
   "cell_type": "code",
   "execution_count": 19,
   "metadata": {},
   "outputs": [
    {
     "name": "stdout",
     "output_type": "stream",
     "text": [
      "../../data/interim/metadata/fedora-devel-2018-3.mbox.csv saved\n",
      "../../data/interim/metadata/fedora-devel-2018-5.mbox.csv saved\n",
      "../../data/interim/metadata/fedora-devel-2018-6.mbox.csv saved\n",
      "../../data/interim/metadata/fedora-devel-2018-7.mbox.csv saved\n",
      "../../data/interim/metadata/fedora-devel-2018-8.mbox.csv saved\n",
      "../../data/interim/metadata/fedora-devel-2018-9.mbox.csv saved\n",
      "../../data/interim/metadata/fedora-devel-2019-7.mbox.csv saved\n",
      "../../data/interim/metadata/fedora-devel-2019-8.mbox.csv saved\n",
      "../../data/interim/metadata/fedora-devel-2019-9.mbox.csv saved\n",
      "../../data/interim/metadata/fedora-devel-2019-10.mbox.csv saved\n",
      "../../data/interim/metadata/fedora-devel-2019-11.mbox.csv saved\n",
      "../../data/interim/metadata/fedora-devel-2019-12.mbox.csv saved\n",
      "../../data/interim/metadata/fedora-devel-2020-1.mbox.csv saved\n",
      "../../data/interim/metadata/fedora-devel-2020-2.mbox.csv saved\n",
      "../../data/interim/metadata/fedora-devel-2020-3.mbox.csv saved\n",
      "../../data/interim/metadata/fedora-devel-2020-4.mbox.csv saved\n",
      "../../data/interim/metadata/fedora-devel-2020-5.mbox.csv saved\n",
      "../../data/interim/metadata/fedora-devel-2020-6.mbox.csv saved\n",
      "../../data/interim/metadata/fedora-devel-2020-7.mbox.csv saved\n",
      "../../data/interim/metadata/fedora-devel-2020-8.mbox.csv saved\n",
      "../../data/interim/metadata/fedora-devel-2020-9.mbox.csv saved\n",
      "../../data/interim/metadata/fedora-devel-2020-10.mbox.csv saved\n",
      "../../data/interim/metadata/fedora-devel-2020-11.mbox.csv saved\n",
      "../../data/interim/metadata/fedora-devel-2018-12.mbox.csv saved\n",
      "../../data/interim/metadata/fedora-devel-2018-1.mbox.csv saved\n",
      "../../data/interim/metadata/fedora-devel-2018-2.mbox.csv saved\n",
      "../../data/interim/metadata/fedora-devel-2018-4.mbox.csv saved\n",
      "../../data/interim/metadata/fedora-devel-2018-10.mbox.csv saved\n",
      "../../data/interim/metadata/fedora-devel-2018-11.mbox.csv saved\n",
      "../../data/interim/metadata/fedora-devel-2019-1.mbox.csv saved\n",
      "../../data/interim/metadata/fedora-devel-2019-2.mbox.csv saved\n",
      "../../data/interim/metadata/fedora-devel-2019-3.mbox.csv saved\n",
      "../../data/interim/metadata/fedora-devel-2019-4.mbox.csv saved\n",
      "../../data/interim/metadata/fedora-devel-2019-5.mbox.csv saved\n",
      "../../data/interim/metadata/fedora-devel-2019-6.mbox.csv saved\n"
     ]
    }
   ],
   "source": [
    "# Ensure datset location exists\n",
    "dataset_base_path = Path(f\"{BASE_PATH}/interim/metadata\")\n",
    "dataset_base_path.mkdir(parents=True, exist_ok=True)\n",
    "\n",
    "# Register all created dataset slices for later upload\n",
    "new_files = []\n",
    "\n",
    "# Save each dataset into its own monthly csv\n",
    "for mbox in mboxes:\n",
    "    output_path = dataset_base_path.joinpath(f\"{mbox}.csv\")\n",
    "    monthly_mbox = mailbox.mbox(path.joinpath(mbox))\n",
    "    df = mbox_to_meta(monthly_mbox)\n",
    "    df.to_csv(output_path)\n",
    "    new_files.append(output_path)\n",
    "    print(f\"{output_path} saved\")"
   ]
  },
  {
   "cell_type": "code",
   "execution_count": 52,
   "metadata": {},
   "outputs": [],
   "source": [
    "# Push to Ceph\n",
    "if os.getenv(\"RUN_IN_AUTOMATION\"):\n",
    "    utils.upload_files(\n",
    "        (f.as_posix(), f\"interim/metadata/{Path(f).name}\") for f in new_files\n",
    "    )"
   ]
  }
 ],
 "metadata": {
  "kernelspec": {
   "display_name": "Python 3",
   "language": "python",
   "name": "python3"
  },
  "language_info": {
   "codemirror_mode": {
    "name": "ipython",
    "version": 3
   },
   "file_extension": ".py",
   "mimetype": "text/x-python",
   "name": "python",
   "nbconvert_exporter": "python",
   "pygments_lexer": "ipython3",
   "version": "3.6.3"
  }
 },
 "nbformat": 4,
 "nbformat_minor": 2
}
