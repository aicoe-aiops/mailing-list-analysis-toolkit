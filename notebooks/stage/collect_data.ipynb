{
 "cells": [
  {
   "cell_type": "markdown",
   "metadata": {},
   "source": [
    "# Collect Data \n",
    "\n",
    "\n",
    "This notebook is used to scrape data from the [Fedora developers mailing list](https://lists.fedoraproject.org/archives/list/devel@lists.fedoraproject.org/) in monthly chunks and then store copies both locally and in a remote Ceph bucket.   \n",
    "\n",
    "\n",
    "\n",
    "**Steps:**\n",
    "* Download Fedora data set as monthly *.gz files to LOCAL_PATH or \"data/\" directory.  \n",
    "* Upload dataset as monthly \"{BUCKET}/{PREFIX}/raw/*.gz\" files in remote Ceph storage. \n",
    "\n",
    "When run in automation, this should only act upon the most recent full month of data."
   ]
  },
  {
   "cell_type": "code",
   "execution_count": 10,
   "metadata": {},
   "outputs": [],
   "source": [
    "import wget\n",
    "import os\n",
    "import datetime\n",
    "import pandas as pd\n",
    "from pathlib import Path\n",
    "from dotenv import load_dotenv\n",
    "\n",
    "load_dotenv(\"../../.env\")\n",
    "\n",
    "import sys\n",
    "\n",
    "sys.path.append(\"../..\")\n",
    "from src import utils"
   ]
  },
  {
   "cell_type": "markdown",
   "metadata": {},
   "source": [
    "## Download Data "
   ]
  },
  {
   "cell_type": "code",
   "execution_count": 2,
   "metadata": {},
   "outputs": [],
   "source": [
    "BASE_PATH = os.getenv(\"LOCAL_DATA_PATH\", \"../../data\")\n",
    "dataset_base_path = Path(f\"{BASE_PATH}/raw/fedora-devel-list/\")\n",
    "dataset_base_path.mkdir(parents=True, exist_ok=True)"
   ]
  },
  {
   "cell_type": "code",
   "execution_count": 3,
   "metadata": {},
   "outputs": [],
   "source": [
    "CURRENT_DATE = datetime.datetime.now().replace(day=1)\n",
    "START_DATE = datetime.date(2018, 1, 1)"
   ]
  },
  {
   "cell_type": "code",
   "execution_count": 4,
   "metadata": {},
   "outputs": [],
   "source": [
    "dates = pd.date_range(START_DATE, CURRENT_DATE, freq=\"m\")\n",
    "\n",
    "if os.getenv(\"RUN_IN_AUTOMATION\"):\n",
    "    dates = [dates[-1]]"
   ]
  },
  {
   "cell_type": "code",
   "execution_count": 43,
   "metadata": {},
   "outputs": [
    {
     "name": "stdout",
     "output_type": "stream",
     "text": [
      "https://lists.fedoraproject.org/archives/list/devel@lists.fedoraproject.org/export/devel@lists.fedoraproject.org.mbox.gz?start=2018-1-01&end=2018-1-31\n",
      "https://lists.fedoraproject.org/archives/list/devel@lists.fedoraproject.org/export/devel@lists.fedoraproject.org.mbox.gz?start=2018-2-01&end=2018-2-28\n",
      "https://lists.fedoraproject.org/archives/list/devel@lists.fedoraproject.org/export/devel@lists.fedoraproject.org.mbox.gz?start=2018-3-01&end=2018-3-31\n",
      "https://lists.fedoraproject.org/archives/list/devel@lists.fedoraproject.org/export/devel@lists.fedoraproject.org.mbox.gz?start=2018-4-01&end=2018-4-30\n",
      "https://lists.fedoraproject.org/archives/list/devel@lists.fedoraproject.org/export/devel@lists.fedoraproject.org.mbox.gz?start=2018-5-01&end=2018-5-31\n",
      "https://lists.fedoraproject.org/archives/list/devel@lists.fedoraproject.org/export/devel@lists.fedoraproject.org.mbox.gz?start=2018-6-01&end=2018-6-30\n",
      "https://lists.fedoraproject.org/archives/list/devel@lists.fedoraproject.org/export/devel@lists.fedoraproject.org.mbox.gz?start=2018-7-01&end=2018-7-31\n",
      "https://lists.fedoraproject.org/archives/list/devel@lists.fedoraproject.org/export/devel@lists.fedoraproject.org.mbox.gz?start=2018-8-01&end=2018-8-31\n",
      "https://lists.fedoraproject.org/archives/list/devel@lists.fedoraproject.org/export/devel@lists.fedoraproject.org.mbox.gz?start=2018-9-01&end=2018-9-30\n",
      "https://lists.fedoraproject.org/archives/list/devel@lists.fedoraproject.org/export/devel@lists.fedoraproject.org.mbox.gz?start=2018-10-01&end=2018-10-31\n",
      "https://lists.fedoraproject.org/archives/list/devel@lists.fedoraproject.org/export/devel@lists.fedoraproject.org.mbox.gz?start=2018-11-01&end=2018-11-30\n",
      "https://lists.fedoraproject.org/archives/list/devel@lists.fedoraproject.org/export/devel@lists.fedoraproject.org.mbox.gz?start=2018-12-01&end=2018-12-31\n",
      "https://lists.fedoraproject.org/archives/list/devel@lists.fedoraproject.org/export/devel@lists.fedoraproject.org.mbox.gz?start=2019-1-01&end=2019-1-31\n",
      "https://lists.fedoraproject.org/archives/list/devel@lists.fedoraproject.org/export/devel@lists.fedoraproject.org.mbox.gz?start=2019-2-01&end=2019-2-28\n",
      "https://lists.fedoraproject.org/archives/list/devel@lists.fedoraproject.org/export/devel@lists.fedoraproject.org.mbox.gz?start=2019-3-01&end=2019-3-31\n",
      "https://lists.fedoraproject.org/archives/list/devel@lists.fedoraproject.org/export/devel@lists.fedoraproject.org.mbox.gz?start=2019-4-01&end=2019-4-30\n",
      "https://lists.fedoraproject.org/archives/list/devel@lists.fedoraproject.org/export/devel@lists.fedoraproject.org.mbox.gz?start=2019-5-01&end=2019-5-31\n",
      "https://lists.fedoraproject.org/archives/list/devel@lists.fedoraproject.org/export/devel@lists.fedoraproject.org.mbox.gz?start=2019-6-01&end=2019-6-30\n",
      "https://lists.fedoraproject.org/archives/list/devel@lists.fedoraproject.org/export/devel@lists.fedoraproject.org.mbox.gz?start=2019-7-01&end=2019-7-31\n",
      "https://lists.fedoraproject.org/archives/list/devel@lists.fedoraproject.org/export/devel@lists.fedoraproject.org.mbox.gz?start=2019-8-01&end=2019-8-31\n",
      "https://lists.fedoraproject.org/archives/list/devel@lists.fedoraproject.org/export/devel@lists.fedoraproject.org.mbox.gz?start=2019-9-01&end=2019-9-30\n",
      "https://lists.fedoraproject.org/archives/list/devel@lists.fedoraproject.org/export/devel@lists.fedoraproject.org.mbox.gz?start=2019-10-01&end=2019-10-31\n",
      "https://lists.fedoraproject.org/archives/list/devel@lists.fedoraproject.org/export/devel@lists.fedoraproject.org.mbox.gz?start=2019-11-01&end=2019-11-30\n",
      "https://lists.fedoraproject.org/archives/list/devel@lists.fedoraproject.org/export/devel@lists.fedoraproject.org.mbox.gz?start=2019-12-01&end=2019-12-31\n",
      "https://lists.fedoraproject.org/archives/list/devel@lists.fedoraproject.org/export/devel@lists.fedoraproject.org.mbox.gz?start=2020-1-01&end=2020-1-31\n",
      "https://lists.fedoraproject.org/archives/list/devel@lists.fedoraproject.org/export/devel@lists.fedoraproject.org.mbox.gz?start=2020-2-01&end=2020-2-29\n",
      "https://lists.fedoraproject.org/archives/list/devel@lists.fedoraproject.org/export/devel@lists.fedoraproject.org.mbox.gz?start=2020-3-01&end=2020-3-31\n",
      "https://lists.fedoraproject.org/archives/list/devel@lists.fedoraproject.org/export/devel@lists.fedoraproject.org.mbox.gz?start=2020-4-01&end=2020-4-30\n",
      "https://lists.fedoraproject.org/archives/list/devel@lists.fedoraproject.org/export/devel@lists.fedoraproject.org.mbox.gz?start=2020-5-01&end=2020-5-31\n",
      "https://lists.fedoraproject.org/archives/list/devel@lists.fedoraproject.org/export/devel@lists.fedoraproject.org.mbox.gz?start=2020-6-01&end=2020-6-30\n",
      "https://lists.fedoraproject.org/archives/list/devel@lists.fedoraproject.org/export/devel@lists.fedoraproject.org.mbox.gz?start=2020-7-01&end=2020-7-31\n",
      "https://lists.fedoraproject.org/archives/list/devel@lists.fedoraproject.org/export/devel@lists.fedoraproject.org.mbox.gz?start=2020-8-01&end=2020-8-31\n",
      "https://lists.fedoraproject.org/archives/list/devel@lists.fedoraproject.org/export/devel@lists.fedoraproject.org.mbox.gz?start=2020-9-01&end=2020-9-30\n",
      "https://lists.fedoraproject.org/archives/list/devel@lists.fedoraproject.org/export/devel@lists.fedoraproject.org.mbox.gz?start=2020-10-01&end=2020-10-31\n",
      "https://lists.fedoraproject.org/archives/list/devel@lists.fedoraproject.org/export/devel@lists.fedoraproject.org.mbox.gz?start=2020-11-01&end=2020-11-30\n"
     ]
    }
   ],
   "source": [
    "# iterate over dates and download the corresponding *.gz files\n",
    "base_url = \"https://lists.fedoraproject.org/archives/list/devel@lists.\\\n",
    "fedoraproject.org/export/devel@lists.fedoraproject.org.mbox.gz\"\n",
    "\n",
    "for i, date in enumerate(dates):\n",
    "    url = f\"{base_url}?start={date.year}-{date.month}-01&end={date.year}-{date.month}-{date.day}\"\n",
    "    print(url)\n",
    "    wget.download(\n",
    "        url,\n",
    "        out=f\"{dataset_base_path}/fedora-devel-{date.year}-{date.month}.mbox.gz\",\n",
    "    )"
   ]
  },
  {
   "cell_type": "markdown",
   "metadata": {},
   "source": [
    "## Upload data to Ceph"
   ]
  },
  {
   "cell_type": "code",
   "execution_count": 5,
   "metadata": {},
   "outputs": [],
   "source": [
    "new_files = [\n",
    "    f\"{dataset_base_path}/fedora-devel-{date.year}-{date.month}.mbox.gz\"\n",
    "    for date in dates\n",
    "]"
   ]
  },
  {
   "cell_type": "code",
   "execution_count": 12,
   "metadata": {},
   "outputs": [
    {
     "name": "stdout",
     "output_type": "stream",
     "text": [
      "Uploading file: ../../data/raw/fedora-devel-list/fedora-devel-2018-1.mbox.gz to mcliffor/fedora_devel_mail/raw/fedora-devel-2018-1.mbox.gz...\tDone\n",
      "Uploading file: ../../data/raw/fedora-devel-list/fedora-devel-2018-2.mbox.gz to mcliffor/fedora_devel_mail/raw/fedora-devel-2018-2.mbox.gz...\tDone\n",
      "Uploading file: ../../data/raw/fedora-devel-list/fedora-devel-2018-3.mbox.gz to mcliffor/fedora_devel_mail/raw/fedora-devel-2018-3.mbox.gz...\tDone\n",
      "Uploading file: ../../data/raw/fedora-devel-list/fedora-devel-2018-4.mbox.gz to mcliffor/fedora_devel_mail/raw/fedora-devel-2018-4.mbox.gz...\tDone\n",
      "Uploading file: ../../data/raw/fedora-devel-list/fedora-devel-2018-5.mbox.gz to mcliffor/fedora_devel_mail/raw/fedora-devel-2018-5.mbox.gz...\tDone\n",
      "Uploading file: ../../data/raw/fedora-devel-list/fedora-devel-2018-6.mbox.gz to mcliffor/fedora_devel_mail/raw/fedora-devel-2018-6.mbox.gz...\tDone\n",
      "Uploading file: ../../data/raw/fedora-devel-list/fedora-devel-2018-7.mbox.gz to mcliffor/fedora_devel_mail/raw/fedora-devel-2018-7.mbox.gz...\tDone\n",
      "Uploading file: ../../data/raw/fedora-devel-list/fedora-devel-2018-8.mbox.gz to mcliffor/fedora_devel_mail/raw/fedora-devel-2018-8.mbox.gz...\tDone\n",
      "Uploading file: ../../data/raw/fedora-devel-list/fedora-devel-2018-9.mbox.gz to mcliffor/fedora_devel_mail/raw/fedora-devel-2018-9.mbox.gz...\tDone\n",
      "Uploading file: ../../data/raw/fedora-devel-list/fedora-devel-2018-10.mbox.gz to mcliffor/fedora_devel_mail/raw/fedora-devel-2018-10.mbox.gz...\tDone\n",
      "Uploading file: ../../data/raw/fedora-devel-list/fedora-devel-2018-11.mbox.gz to mcliffor/fedora_devel_mail/raw/fedora-devel-2018-11.mbox.gz...\tDone\n",
      "Uploading file: ../../data/raw/fedora-devel-list/fedora-devel-2018-12.mbox.gz to mcliffor/fedora_devel_mail/raw/fedora-devel-2018-12.mbox.gz...\tDone\n",
      "Uploading file: ../../data/raw/fedora-devel-list/fedora-devel-2019-1.mbox.gz to mcliffor/fedora_devel_mail/raw/fedora-devel-2019-1.mbox.gz...\tDone\n",
      "Uploading file: ../../data/raw/fedora-devel-list/fedora-devel-2019-2.mbox.gz to mcliffor/fedora_devel_mail/raw/fedora-devel-2019-2.mbox.gz...\tDone\n",
      "Uploading file: ../../data/raw/fedora-devel-list/fedora-devel-2019-3.mbox.gz to mcliffor/fedora_devel_mail/raw/fedora-devel-2019-3.mbox.gz...\tDone\n",
      "Uploading file: ../../data/raw/fedora-devel-list/fedora-devel-2019-4.mbox.gz to mcliffor/fedora_devel_mail/raw/fedora-devel-2019-4.mbox.gz...\tDone\n",
      "Uploading file: ../../data/raw/fedora-devel-list/fedora-devel-2019-5.mbox.gz to mcliffor/fedora_devel_mail/raw/fedora-devel-2019-5.mbox.gz...\tDone\n",
      "Uploading file: ../../data/raw/fedora-devel-list/fedora-devel-2019-6.mbox.gz to mcliffor/fedora_devel_mail/raw/fedora-devel-2019-6.mbox.gz...\tDone\n",
      "Uploading file: ../../data/raw/fedora-devel-list/fedora-devel-2019-7.mbox.gz to mcliffor/fedora_devel_mail/raw/fedora-devel-2019-7.mbox.gz...\tDone\n",
      "Uploading file: ../../data/raw/fedora-devel-list/fedora-devel-2019-8.mbox.gz to mcliffor/fedora_devel_mail/raw/fedora-devel-2019-8.mbox.gz...\tDone\n",
      "Uploading file: ../../data/raw/fedora-devel-list/fedora-devel-2019-9.mbox.gz to mcliffor/fedora_devel_mail/raw/fedora-devel-2019-9.mbox.gz...\tDone\n",
      "Uploading file: ../../data/raw/fedora-devel-list/fedora-devel-2019-10.mbox.gz to mcliffor/fedora_devel_mail/raw/fedora-devel-2019-10.mbox.gz...\tDone\n",
      "Uploading file: ../../data/raw/fedora-devel-list/fedora-devel-2019-11.mbox.gz to mcliffor/fedora_devel_mail/raw/fedora-devel-2019-11.mbox.gz...\tDone\n",
      "Uploading file: ../../data/raw/fedora-devel-list/fedora-devel-2019-12.mbox.gz to mcliffor/fedora_devel_mail/raw/fedora-devel-2019-12.mbox.gz...\tDone\n",
      "Uploading file: ../../data/raw/fedora-devel-list/fedora-devel-2020-1.mbox.gz to mcliffor/fedora_devel_mail/raw/fedora-devel-2020-1.mbox.gz...\tDone\n",
      "Uploading file: ../../data/raw/fedora-devel-list/fedora-devel-2020-2.mbox.gz to mcliffor/fedora_devel_mail/raw/fedora-devel-2020-2.mbox.gz...\tDone\n",
      "Uploading file: ../../data/raw/fedora-devel-list/fedora-devel-2020-3.mbox.gz to mcliffor/fedora_devel_mail/raw/fedora-devel-2020-3.mbox.gz...\tDone\n",
      "Uploading file: ../../data/raw/fedora-devel-list/fedora-devel-2020-4.mbox.gz to mcliffor/fedora_devel_mail/raw/fedora-devel-2020-4.mbox.gz...\tDone\n",
      "Uploading file: ../../data/raw/fedora-devel-list/fedora-devel-2020-5.mbox.gz to mcliffor/fedora_devel_mail/raw/fedora-devel-2020-5.mbox.gz...\tDone\n",
      "Uploading file: ../../data/raw/fedora-devel-list/fedora-devel-2020-6.mbox.gz to mcliffor/fedora_devel_mail/raw/fedora-devel-2020-6.mbox.gz...\tDone\n",
      "Uploading file: ../../data/raw/fedora-devel-list/fedora-devel-2020-7.mbox.gz to mcliffor/fedora_devel_mail/raw/fedora-devel-2020-7.mbox.gz...\tDone\n",
      "Uploading file: ../../data/raw/fedora-devel-list/fedora-devel-2020-8.mbox.gz to mcliffor/fedora_devel_mail/raw/fedora-devel-2020-8.mbox.gz...\tDone\n",
      "Uploading file: ../../data/raw/fedora-devel-list/fedora-devel-2020-9.mbox.gz to mcliffor/fedora_devel_mail/raw/fedora-devel-2020-9.mbox.gz...\tDone\n",
      "Uploading file: ../../data/raw/fedora-devel-list/fedora-devel-2020-10.mbox.gz to mcliffor/fedora_devel_mail/raw/fedora-devel-2020-10.mbox.gz...\tDone\n",
      "Uploading file: ../../data/raw/fedora-devel-list/fedora-devel-2020-11.mbox.gz to mcliffor/fedora_devel_mail/raw/fedora-devel-2020-11.mbox.gz...\tDone\n"
     ]
    }
   ],
   "source": [
    "if os.getenv(\"RUN_IN_AUTOMATION\"):\n",
    "    utils.upload_files((f, f\"raw/{Path(f).name}\") for f in new_files)"
   ]
  }
 ],
 "metadata": {
  "kernelspec": {
   "display_name": "Python 3",
   "language": "python",
   "name": "python3"
  },
  "language_info": {
   "codemirror_mode": {
    "name": "ipython",
    "version": 3
   },
   "file_extension": ".py",
   "mimetype": "text/x-python",
   "name": "python",
   "nbconvert_exporter": "python",
   "pygments_lexer": "ipython3",
   "version": "3.7.3"
  }
 },
 "nbformat": 4,
 "nbformat_minor": 2
}
